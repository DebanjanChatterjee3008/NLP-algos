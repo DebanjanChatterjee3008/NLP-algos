{
 "cells": [
  {
   "cell_type": "code",
   "execution_count": 2,
   "metadata": {},
   "outputs": [],
   "source": [
    "import nltk"
   ]
  },
  {
   "cell_type": "code",
   "execution_count": 3,
   "metadata": {},
   "outputs": [],
   "source": [
    "from gensim.models import Word2Vec"
   ]
  },
  {
   "cell_type": "code",
   "execution_count": 4,
   "metadata": {},
   "outputs": [],
   "source": [
    "from nltk.corpus import stopwords"
   ]
  },
  {
   "cell_type": "code",
   "execution_count": 5,
   "metadata": {},
   "outputs": [],
   "source": [
    "paragraph = \"\"\"I have three visions for India. In 3000 years of our history people from all over the world have come and invaded us, captured our lands, conquered our minds. From Alexander onwards, The Greeks, the Turks, the Moguls, the Portuguese, the British, the French, the Dutch, all of them came and looted us, took over what was ours. Yet we have not done this to any other nation. We have not conquered anyone. We have not grabbed their land, their culture, their history and tried to enforce our way of life on them. Why? Because we respect the freedom of others.That is why my first vision is that of FREEDOM. I believe that India got its first vision of this in 1857, when we started the war of independence. It is this freedom that we must protect and nurture and build on. If we are not free, no one will respect us.\n",
    "\n",
    "My second vision for India is DEVELOPMENT.\n",
    "\n",
    "For fifty years we have been a developing nation. It is time we see ourselves as a developed nation. We are among top 5 nations of the world in terms of GDP. We have 10 percent growth rate inmost areas. Our poverty levels are falling. Our achievements are being globally recognized today. Yet we lack the self-confidence to see ourselves as a developed nation, self-reliant and self-assured. Isn’t this incorrect?\n",
    "\n",
    "I have a THIRD vision.India must stand up to the world. Because I believe that unless India stands up to the world, no one will respect us. Only strength respects strength. We must be strong not only as a military power but also as an economic power. Both must go hand-in-hand. My good fortune was to have worked with three great minds. Dr. Vikram Sarabhai of the Dept. of space, Professor Satish Dhawan, who succeeded him and Dr. Brahm Prakash, father of nuclear material. I was lucky to have worked with all three of them closely and consider this the great opportunity of my life. I see four milestones in my career.\"\"\""
   ]
  },
  {
   "cell_type": "code",
   "execution_count": 6,
   "metadata": {},
   "outputs": [],
   "source": [
    "import re"
   ]
  },
  {
   "cell_type": "code",
   "execution_count": 7,
   "metadata": {},
   "outputs": [],
   "source": [
    "#preprocessing the data\n",
    "\n",
    "text = re.sub(r'\\[[0-9]*\\]',' ',paragraph)\n",
    "text = re.sub(r'\\s+',' ',text)\n",
    "text = text.lower()\n",
    "text = re.sub(r'\\d',' ',text)\n",
    "text = re.sub(r'\\s+',' ',text)"
   ]
  },
  {
   "cell_type": "code",
   "execution_count": 9,
   "metadata": {},
   "outputs": [
    {
     "name": "stdout",
     "output_type": "stream",
     "text": [
      "i have three visions for india. in years of our history people from all over the world have come and invaded us, captured our lands, conquered our minds. from alexander onwards, the greeks, the turks, the moguls, the portuguese, the british, the french, the dutch, all of them came and looted us, took over what was ours. yet we have not done this to any other nation. we have not conquered anyone. we have not grabbed their land, their culture, their history and tried to enforce our way of life on them. why? because we respect the freedom of others.that is why my first vision is that of freedom. i believe that india got its first vision of this in , when we started the war of independence. it is this freedom that we must protect and nurture and build on. if we are not free, no one will respect us. my second vision for india is development. for fifty years we have been a developing nation. it is time we see ourselves as a developed nation. we are among top nations of the world in terms of gdp. we have percent growth rate inmost areas. our poverty levels are falling. our achievements are being globally recognized today. yet we lack the self-confidence to see ourselves as a developed nation, self-reliant and self-assured. isn’t this incorrect? i have a third vision.india must stand up to the world. because i believe that unless india stands up to the world, no one will respect us. only strength respects strength. we must be strong not only as a military power but also as an economic power. both must go hand-in-hand. my good fortune was to have worked with three great minds. dr. vikram sarabhai of the dept. of space, professor satish dhawan, who succeeded him and dr. brahm prakash, father of nuclear material. i was lucky to have worked with all three of them closely and consider this the great opportunity of my life. i see four milestones in my career.\n"
     ]
    }
   ],
   "source": [
    "print(text)\n",
    "\n",
    "#all the special characters and numbers have been removed"
   ]
  },
  {
   "cell_type": "code",
   "execution_count": 10,
   "metadata": {},
   "outputs": [],
   "source": [
    "#preparing the dataset\n",
    "\n",
    "sentences = nltk.sent_tokenize(text)"
   ]
  },
  {
   "cell_type": "code",
   "execution_count": 11,
   "metadata": {},
   "outputs": [],
   "source": [
    "sentences = [nltk.word_tokenize(sentence) for sentence in sentences]"
   ]
  },
  {
   "cell_type": "code",
   "execution_count": 12,
   "metadata": {},
   "outputs": [],
   "source": [
    "for i in range(len(sentences)):\n",
    "    sentences[i] = [word for word in sentences[i] if word not in stopwords.words('english')]"
   ]
  },
  {
   "cell_type": "code",
   "execution_count": 13,
   "metadata": {},
   "outputs": [
    {
     "name": "stdout",
     "output_type": "stream",
     "text": [
      "[['three', 'visions', 'india', '.'], ['years', 'history', 'people', 'world', 'come', 'invaded', 'us', ',', 'captured', 'lands', ',', 'conquered', 'minds', '.'], ['alexander', 'onwards', ',', 'greeks', ',', 'turks', ',', 'moguls', ',', 'portuguese', ',', 'british', ',', 'french', ',', 'dutch', ',', 'came', 'looted', 'us', ',', 'took', '.'], ['yet', 'done', 'nation', '.'], ['conquered', 'anyone', '.'], ['grabbed', 'land', ',', 'culture', ',', 'history', 'tried', 'enforce', 'way', 'life', '.'], ['?'], ['respect', 'freedom', 'others.that', 'first', 'vision', 'freedom', '.'], ['believe', 'india', 'got', 'first', 'vision', ',', 'started', 'war', 'independence', '.'], ['freedom', 'must', 'protect', 'nurture', 'build', '.'], ['free', ',', 'one', 'respect', 'us', '.'], ['second', 'vision', 'india', 'development', '.'], ['fifty', 'years', 'developing', 'nation', '.'], ['time', 'see', 'developed', 'nation', '.'], ['among', 'top', 'nations', 'world', 'terms', 'gdp', '.'], ['percent', 'growth', 'rate', 'inmost', 'areas', '.'], ['poverty', 'levels', 'falling', '.'], ['achievements', 'globally', 'recognized', 'today', '.'], ['yet', 'lack', 'self-confidence', 'see', 'developed', 'nation', ',', 'self-reliant', 'self-assured', '.'], ['’', 'incorrect', '?'], ['third', 'vision.india', 'must', 'stand', 'world', '.'], ['believe', 'unless', 'india', 'stands', 'world', ',', 'one', 'respect', 'us', '.'], ['strength', 'respects', 'strength', '.'], ['must', 'strong', 'military', 'power', 'also', 'economic', 'power', '.'], ['must', 'go', 'hand-in-hand', '.'], ['good', 'fortune', 'worked', 'three', 'great', 'minds', '.'], ['dr.', 'vikram', 'sarabhai', 'dept', '.'], ['space', ',', 'professor', 'satish', 'dhawan', ',', 'succeeded', 'dr.', 'brahm', 'prakash', ',', 'father', 'nuclear', 'material', '.'], ['lucky', 'worked', 'three', 'closely', 'consider', 'great', 'opportunity', 'life', '.'], ['see', 'four', 'milestones', 'career', '.']]\n"
     ]
    }
   ],
   "source": [
    "print(sentences)"
   ]
  },
  {
   "cell_type": "code",
   "execution_count": 16,
   "metadata": {},
   "outputs": [],
   "source": [
    "model = Word2Vec(sentences, min_count=1)\n",
    "\n",
    "#building the word2vec model\n",
    "#min_count=1 suggests that if the word is present less than 1 times, then we'll skip the word"
   ]
  },
  {
   "cell_type": "code",
   "execution_count": 17,
   "metadata": {},
   "outputs": [],
   "source": [
    "words = model.wv.vocab"
   ]
  },
  {
   "cell_type": "code",
   "execution_count": 19,
   "metadata": {},
   "outputs": [
    {
     "name": "stdout",
     "output_type": "stream",
     "text": [
      "Word2Vec(vocab=125, size=100, alpha=0.025)\n"
     ]
    }
   ],
   "source": [
    "print(model)"
   ]
  },
  {
   "cell_type": "code",
   "execution_count": 21,
   "metadata": {},
   "outputs": [
    {
     "data": {
      "text/plain": [
       "array([ 4.2195744e-03, -4.4885604e-03, -1.5304924e-03,  8.6169812e-04,\n",
       "        1.9979125e-03,  5.9235864e-04,  4.2215106e-03, -1.8310851e-03,\n",
       "       -4.0080557e-03,  6.4648100e-04,  1.0682438e-03, -4.1049518e-04,\n",
       "        4.9386956e-03,  2.1145535e-03,  3.4870007e-03, -1.3745718e-03,\n",
       "       -3.5181050e-03, -3.9700191e-03,  1.4606018e-03,  4.1837925e-03,\n",
       "        2.3897940e-03,  3.2331466e-03, -2.8018027e-03,  2.9344168e-03,\n",
       "       -3.0485345e-03, -2.3546286e-03, -2.1418596e-03, -2.9845969e-03,\n",
       "        6.5882696e-04,  4.9093906e-03, -4.2209489e-04, -3.6497004e-03,\n",
       "       -3.8802793e-04, -1.8571345e-03,  2.5157947e-03, -1.4747235e-03,\n",
       "       -4.8152697e-03, -1.8747089e-03, -3.4513860e-03, -3.8719752e-03,\n",
       "       -2.1961830e-03, -3.4935689e-03, -1.3228701e-03, -2.8230317e-03,\n",
       "       -1.8017482e-03,  3.5822154e-03,  1.2652793e-05, -3.7759526e-03,\n",
       "        1.0528249e-03,  2.1009559e-03,  1.6730912e-04,  3.4377011e-03,\n",
       "       -1.4099063e-03,  1.8705899e-03,  4.9545486e-03, -3.1421653e-03,\n",
       "       -9.4219839e-04,  4.2888657e-03,  1.6967047e-03,  4.2721750e-03,\n",
       "       -3.3745242e-03,  4.1233711e-03, -2.9146918e-03, -4.2792279e-03,\n",
       "        1.4810245e-03,  4.5663128e-03, -2.3232107e-03,  4.5350022e-03,\n",
       "       -1.0113991e-03, -2.1046735e-03,  6.9279055e-04, -4.6905703e-03,\n",
       "        1.9018278e-04, -1.6160214e-03, -1.8425977e-04,  1.1140958e-03,\n",
       "       -1.4685774e-03, -1.3796454e-04,  1.0148869e-03,  3.5144424e-03,\n",
       "       -5.4109178e-04,  4.2619659e-03, -1.7393330e-03, -4.9388027e-03,\n",
       "        2.3775962e-03, -3.5360609e-03, -4.7431216e-03,  2.5355590e-03,\n",
       "       -2.6449107e-03, -4.8435647e-03,  1.2532993e-04, -4.7992473e-03,\n",
       "       -4.7501260e-03, -2.9642803e-03, -4.7898830e-05,  2.0865796e-03,\n",
       "       -2.0936792e-04, -1.7626593e-03,  2.5694538e-03, -1.2045560e-03],\n",
       "      dtype=float32)"
      ]
     },
     "execution_count": 21,
     "metadata": {},
     "output_type": "execute_result"
    }
   ],
   "source": [
    "#finding the vector for a particular word\n",
    "\n",
    "vector = model.wv['war']\n",
    "vector"
   ]
  },
  {
   "cell_type": "code",
   "execution_count": 22,
   "metadata": {},
   "outputs": [],
   "source": [
    "# the word war is stored in a vector of 100 dimensions"
   ]
  },
  {
   "cell_type": "code",
   "execution_count": null,
   "metadata": {},
   "outputs": [],
   "source": []
  }
 ],
 "metadata": {
  "kernelspec": {
   "display_name": "Python 3",
   "language": "python",
   "name": "python3"
  },
  "language_info": {
   "codemirror_mode": {
    "name": "ipython",
    "version": 3
   },
   "file_extension": ".py",
   "mimetype": "text/x-python",
   "name": "python",
   "nbconvert_exporter": "python",
   "pygments_lexer": "ipython3",
   "version": "3.7.4"
  }
 },
 "nbformat": 4,
 "nbformat_minor": 2
}
